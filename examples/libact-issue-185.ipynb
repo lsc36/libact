{
 "cells": [
  {
   "cell_type": "markdown",
   "metadata": {},
   "source": [
    "# Working example with hierarchical sampling\n",
    "\n",
    "Follow the example of [Comparing Different Query Strategies](https://libact.readthedocs.io/en/latest/examples/plot.html)\n",
    "\n",
    "The `qs3` is example of Hierarchical Sampling."
   ]
  },
  {
   "cell_type": "code",
   "execution_count": 1,
   "metadata": {},
   "outputs": [],
   "source": [
    "import copy\n",
    "import os\n",
    "\n",
    "import numpy as np\n",
    "import matplotlib.pyplot as plt\n",
    "try:\n",
    "    from sklearn.model_selection import train_test_split\n",
    "except ImportError:\n",
    "    from sklearn.cross_validation import train_test_split\n",
    "\n",
    "# libact classes\n",
    "from libact.base.dataset import Dataset, import_libsvm_sparse\n",
    "from libact.models import *\n",
    "from libact.query_strategies import *\n",
    "from libact.query_strategies.multiclass import HierarchicalSampling\n",
    "from libact.labelers import IdealLabeler"
   ]
  },
  {
   "cell_type": "code",
   "execution_count": 2,
   "metadata": {},
   "outputs": [],
   "source": [
    "def run(trn_ds, tst_ds, lbr, model, qs, quota):\n",
    "    E_in, E_out = [], []\n",
    "\n",
    "    for _ in range(quota):\n",
    "        # Standard usage of libact objects\n",
    "        ask_id = qs.make_query()\n",
    "        X, _ = zip(*trn_ds.data)\n",
    "        lb = lbr.label(X[ask_id])\n",
    "        trn_ds.update(ask_id, lb)\n",
    "\n",
    "        model.train(trn_ds)\n",
    "        E_in = np.append(E_in, 1 - model.score(trn_ds))\n",
    "        E_out = np.append(E_out, 1 - model.score(tst_ds))\n",
    "\n",
    "    return E_in, E_out"
   ]
  },
  {
   "cell_type": "code",
   "execution_count": 3,
   "metadata": {},
   "outputs": [],
   "source": [
    "def split_train_test(dataset_filepath, test_size, n_labeled):\n",
    "    X, y = import_libsvm_sparse(dataset_filepath).format_sklearn()\n",
    "\n",
    "    X_train, X_test, y_train, y_test = \\\n",
    "        train_test_split(X, y, test_size=test_size)\n",
    "    trn_ds = Dataset(X_train, np.concatenate(\n",
    "        [y_train[:n_labeled], [None] * (len(y_train) - n_labeled)]))\n",
    "    tst_ds = Dataset(X_test, y_test)\n",
    "    fully_labeled_trn_ds = Dataset(X_train, y_train)\n",
    "\n",
    "    return trn_ds, tst_ds, y_train, fully_labeled_trn_ds"
   ]
  },
  {
   "cell_type": "code",
   "execution_count": 4,
   "metadata": {},
   "outputs": [],
   "source": [
    "%matplotlib inline"
   ]
  },
  {
   "cell_type": "code",
   "execution_count": 5,
   "metadata": {},
   "outputs": [
    {
     "data": {
      "image/png": "[encoded data removed]",
      "text/plain": [
       "<Figure size 432x288 with 1 Axes>"
      ]
     },
     "metadata": {
      "needs_background": "light"
     },
     "output_type": "display_data"
    }
   ],
   "source": [
    "# Specifiy the parameters here:\n",
    "# path to your binary classification dataset\n",
    "dataset_filepath = os.path.join(\n",
    "    os.path.dirname(os.path.realpath(\"./examples\")), 'diabetes.txt')\n",
    "test_size = 0.33    # the percentage of samples in the dataset that will be\n",
    "# randomly selected and assigned to the test set\n",
    "n_labeled = 10      # number of samples that are initially labeled\n",
    "\n",
    "# Load dataset\n",
    "trn_ds, tst_ds, y_train, fully_labeled_trn_ds = \\\n",
    "    split_train_test(dataset_filepath, test_size, n_labeled)\n",
    "trn_ds2 = copy.deepcopy(trn_ds)\n",
    "trn_ds3 = copy.deepcopy(trn_ds)\n",
    "lbr = IdealLabeler(fully_labeled_trn_ds)\n",
    "\n",
    "quota = len(y_train) - n_labeled    # number of samples to query\n",
    "\n",
    "# Comparing UncertaintySampling strategy with RandomSampling.\n",
    "# model is the base learner, e.g. LogisticRegression, SVM ... etc.\n",
    "qs = UncertaintySampling(trn_ds, method='lc', model=LogisticRegression())\n",
    "model = LogisticRegression()\n",
    "E_in_1, E_out_1 = run(trn_ds, tst_ds, lbr, model, qs, quota)\n",
    "\n",
    "qs2 = RandomSampling(trn_ds2)\n",
    "model = LogisticRegression()\n",
    "E_in_2, E_out_2 = run(trn_ds2, tst_ds, lbr, model, qs2, quota)\n",
    "\n",
    "sub_qs = UncertaintySampling(trn_ds3, method='sm', model=LogisticRegression())\n",
    "qs3 = HierarchicalSampling(trn_ds3, np.unique(y_train), active_selecting=True, subsample_qs=sub_qs)\n",
    "E_in_3, E_out_3 = run(trn_ds3, tst_ds, lbr, model, qs3, quota)\n",
    "\n",
    "# Plot the learning curve of UncertaintySampling to RandomSampling\n",
    "# The x-axis is the number of queries, and the y-axis is the corresponding\n",
    "# error rate.\n",
    "query_num = np.arange(1, quota + 1)\n",
    "# plt.plot(query_num, E_in_1, 'b', label='qs Ein')\n",
    "# plt.plot(query_num, E_in_2, 'r', label='random Ein')\n",
    "plt.plot(query_num, E_out_1, 'g', label='Eout Uncertainty Sampling')\n",
    "plt.plot(query_num, E_out_2, 'k', label='Eout Random Sampling')\n",
    "plt.plot(query_num, E_out_3, 'b', label=\"Eout Hierarchical Sampling\")\n",
    "plt.xlabel('Number of Queries')\n",
    "plt.ylabel('Error')\n",
    "plt.title('Experiment Result')\n",
    "plt.legend(loc='upper center', bbox_to_anchor=(0.5, -0.05),\n",
    "           fancybox=True, shadow=True, ncol=5)\n",
    "plt.show()"
   ]
  },
  {
   "cell_type": "markdown",
   "metadata": {},
   "source": [
    "# Hierarchical clustering \\#185\n",
    "\n",
    "First I reproduce the issue 185 first."
   ]
  },
  {
   "cell_type": "code",
   "execution_count": 6,
   "metadata": {},
   "outputs": [
    {
     "name": "stdout",
     "output_type": "stream",
     "text": [
      "10\n"
     ]
    },
    {
     "ename": "AssertionError",
     "evalue": "",
     "output_type": "error",
     "traceback": [
      "\u001b[0;31m---------------------------------------------------------------------------\u001b[0m",
      "\u001b[0;31mAssertionError\u001b[0m                            Traceback (most recent call last)",
      "\u001b[0;32m<ipython-input-6-448dffc708b8>\u001b[0m in \u001b[0;36m<module>\u001b[0;34m\u001b[0m\n\u001b[1;32m     23\u001b[0m \u001b[0;32mfor\u001b[0m \u001b[0midx\u001b[0m \u001b[0;32min\u001b[0m \u001b[0mrange\u001b[0m\u001b[0;34m(\u001b[0m\u001b[0;36m100\u001b[0m\u001b[0;34m)\u001b[0m\u001b[0;34m:\u001b[0m\u001b[0;34m\u001b[0m\u001b[0;34m\u001b[0m\u001b[0m\n\u001b[1;32m     24\u001b[0m     \u001b[0ma\u001b[0m \u001b[0;34m=\u001b[0m \u001b[0mqs\u001b[0m\u001b[0;34m.\u001b[0m\u001b[0mmake_query\u001b[0m\u001b[0;34m(\u001b[0m\u001b[0;34m)\u001b[0m\u001b[0;34m\u001b[0m\u001b[0;34m\u001b[0m\u001b[0m\n\u001b[0;32m---> 25\u001b[0;31m     \u001b[0mqs\u001b[0m\u001b[0;34m.\u001b[0m\u001b[0mupdate\u001b[0m\u001b[0;34m(\u001b[0m\u001b[0ma\u001b[0m\u001b[0;34m,\u001b[0m \u001b[0my_pool\u001b[0m\u001b[0;34m[\u001b[0m\u001b[0ma\u001b[0m\u001b[0;34m]\u001b[0m\u001b[0;34m)\u001b[0m\u001b[0;34m\u001b[0m\u001b[0;34m\u001b[0m\u001b[0m\n\u001b[0m\u001b[1;32m     26\u001b[0m \u001b[0mprint\u001b[0m\u001b[0;34m(\u001b[0m\u001b[0mdataset\u001b[0m\u001b[0;34m.\u001b[0m\u001b[0mlen_labeled\u001b[0m\u001b[0;34m(\u001b[0m\u001b[0;34m)\u001b[0m\u001b[0;34m)\u001b[0m\u001b[0;34m\u001b[0m\u001b[0;34m\u001b[0m\u001b[0m\n",
      "\u001b[0;32m~/anaconda3/envs/libact_dev/lib/python3.6/site-packages/libact-0.1.6-py3.6-linux-x86_64.egg/libact/query_strategies/multiclass/hierarchical_sampling.py\u001b[0m in \u001b[0;36mupdate\u001b[0;34m(self, entry_id, label)\u001b[0m\n\u001b[1;32m    193\u001b[0m         \u001b[0mclass_id\u001b[0m \u001b[0;34m=\u001b[0m \u001b[0mself\u001b[0m\u001b[0;34m.\u001b[0m\u001b[0mclass_id\u001b[0m\u001b[0;34m[\u001b[0m\u001b[0mlabel\u001b[0m\u001b[0;34m]\u001b[0m\u001b[0;34m\u001b[0m\u001b[0;34m\u001b[0m\u001b[0m\n\u001b[1;32m    194\u001b[0m         \u001b[0mroot_pruning\u001b[0m \u001b[0;34m=\u001b[0m \u001b[0mself\u001b[0m\u001b[0;34m.\u001b[0m\u001b[0m_find_root_pruning\u001b[0m\u001b[0;34m(\u001b[0m\u001b[0mentry_id\u001b[0m\u001b[0;34m)\u001b[0m\u001b[0;34m\u001b[0m\u001b[0;34m\u001b[0m\u001b[0m\n\u001b[0;32m--> 195\u001b[0;31m         \u001b[0mself\u001b[0m\u001b[0;34m.\u001b[0m\u001b[0m_update\u001b[0m\u001b[0;34m(\u001b[0m\u001b[0mentry_id\u001b[0m\u001b[0;34m,\u001b[0m \u001b[0mclass_id\u001b[0m\u001b[0;34m,\u001b[0m \u001b[0mroot_pruning\u001b[0m\u001b[0;34m)\u001b[0m\u001b[0;34m\u001b[0m\u001b[0;34m\u001b[0m\u001b[0m\n\u001b[0m\u001b[1;32m    196\u001b[0m         \u001b[0mself\u001b[0m\u001b[0;34m.\u001b[0m\u001b[0m_prune_node\u001b[0m\u001b[0;34m(\u001b[0m\u001b[0mroot_pruning\u001b[0m\u001b[0;34m)\u001b[0m\u001b[0;34m\u001b[0m\u001b[0;34m\u001b[0m\u001b[0m\n\u001b[1;32m    197\u001b[0m \u001b[0;34m\u001b[0m\u001b[0m\n",
      "\u001b[0;32m~/anaconda3/envs/libact_dev/lib/python3.6/site-packages/libact-0.1.6-py3.6-linux-x86_64.egg/libact/query_strategies/multiclass/hierarchical_sampling.py\u001b[0m in \u001b[0;36m_update\u001b[0;34m(self, entry_id, label, root_pruning)\u001b[0m\n\u001b[1;32m    303\u001b[0m             \u001b[0;31m#if self.total[node] > self.size[node]:\u001b[0m\u001b[0;34m\u001b[0m\u001b[0;34m\u001b[0m\u001b[0;34m\u001b[0m\u001b[0m\n\u001b[1;32m    304\u001b[0m             \u001b[0;31m#    pdb.set_trace()\u001b[0m\u001b[0;34m\u001b[0m\u001b[0;34m\u001b[0m\u001b[0;34m\u001b[0m\u001b[0m\n\u001b[0;32m--> 305\u001b[0;31m             \u001b[0;32massert\u001b[0m \u001b[0mself\u001b[0m\u001b[0;34m.\u001b[0m\u001b[0mtotal\u001b[0m\u001b[0;34m[\u001b[0m\u001b[0mnode\u001b[0m\u001b[0;34m]\u001b[0m \u001b[0;34m<=\u001b[0m \u001b[0mself\u001b[0m\u001b[0;34m.\u001b[0m\u001b[0msize\u001b[0m\u001b[0;34m[\u001b[0m\u001b[0mnode\u001b[0m\u001b[0;34m]\u001b[0m\u001b[0;34m\u001b[0m\u001b[0;34m\u001b[0m\u001b[0m\n\u001b[0m\u001b[1;32m    306\u001b[0m \u001b[0;34m\u001b[0m\u001b[0m\n\u001b[1;32m    307\u001b[0m             \u001b[0;32mfor\u001b[0m \u001b[0ml\u001b[0m \u001b[0;32min\u001b[0m \u001b[0mrange\u001b[0m\u001b[0;34m(\u001b[0m\u001b[0mself\u001b[0m\u001b[0;34m.\u001b[0m\u001b[0mnum_class\u001b[0m\u001b[0;34m)\u001b[0m\u001b[0;34m:\u001b[0m\u001b[0;34m\u001b[0m\u001b[0;34m\u001b[0m\u001b[0m\n",
      "\u001b[0;31mAssertionError\u001b[0m: "
     ]
    }
   ],
   "source": [
    "X_pool, y_pool = import_libsvm_sparse(dataset_filepath).format_sklearn()\n",
    "\n",
    "n_labeled = 10\n",
    "seed_set = range(n_labeled)\n",
    "y = []\n",
    "for idx in range(len(y_pool)):\n",
    "    if idx in seed_set:\n",
    "        y += [y_pool[idx]]\n",
    "    else:\n",
    "        y += [None]\n",
    "dataset = Dataset(X_pool, y)\n",
    "print(dataset.len_labeled())\n",
    "sub_qs = UncertaintySampling(\n",
    "    dataset, method='sm', model=LogisticRegression(max_iter=1000)\n",
    ")\n",
    "qs = HierarchicalSampling(\n",
    "    dataset, # Dataset object\n",
    "    np.unique(y_pool),\n",
    "    active_selecting=True,\n",
    "    subsample_qs=sub_qs\n",
    ")\n",
    "\n",
    "for idx in range(100):\n",
    "    a = qs.make_query()\n",
    "    qs.update(a, y_pool[a])\n",
    "print(dataset.len_labeled())"
   ]
  },
  {
   "cell_type": "markdown",
   "metadata": {},
   "source": [
    "I consider that the `AssertionError` occurs as we use only **query strategy update** here.\n",
    "When next time `qs.make_query()`, the former corresponded labeled in `dataset` doesn't update.\n",
    "\n",
    "In `libact`, we prefer use `dataset.update`\n",
    "[detail of dataset.update](https://github.com/ntucllab/libact/blob/2432b512bca3bdf97df6d2d7c40c5ffba5b46094/libact/base/dataset.py#L133).\n",
    "Or we could follow the steps of `dataset.update`."
   ]
  },
  {
   "cell_type": "code",
   "execution_count": 7,
   "metadata": {},
   "outputs": [
    {
     "name": "stdout",
     "output_type": "stream",
     "text": [
      "10\n",
      "110\n"
     ]
    }
   ],
   "source": [
    "X_pool, y_pool = import_libsvm_sparse(dataset_filepath).format_sklearn()\n",
    "\n",
    "n_labeled = 10\n",
    "seed_set = range(n_labeled)\n",
    "y = []\n",
    "for idx in range(len(y_pool)):\n",
    "    if idx in seed_set:\n",
    "        y += [y_pool[idx]]\n",
    "    else:\n",
    "        y += [None]\n",
    "dataset = Dataset(X_pool, y)\n",
    "print(dataset.len_labeled())\n",
    "sub_qs = UncertaintySampling(\n",
    "    dataset, method='sm', model=LogisticRegression(max_iter=1000)\n",
    ")\n",
    "qs = HierarchicalSampling(\n",
    "    dataset, # Dataset object\n",
    "    np.unique(y_pool),\n",
    "    active_selecting=True,\n",
    "    subsample_qs=sub_qs\n",
    ")\n",
    "\n",
    "for idx in range(100):\n",
    "    a = qs.make_query()\n",
    "    # dataset.update(a, y_pool[a]) # ok!\n",
    "    dataset._y[a] = y_pool[a]\n",
    "    dataset.modified = True\n",
    "    qs.update(a, y_pool[a])\n",
    "print(dataset.len_labeled())"
   ]
  },
  {
   "cell_type": "code",
   "execution_count": null,
   "metadata": {},
   "outputs": [],
   "source": []
  }
 ],
 "metadata": {
  "kernelspec": {
   "display_name": "libact_dev",
   "language": "python",
   "name": "libact_dev"
  },
  "language_info": {
   "codemirror_mode": {
    "name": "ipython",
    "version": 3
   },
   "file_extension": ".py",
   "mimetype": "text/x-python",
   "name": "python",
   "nbconvert_exporter": "python",
   "pygments_lexer": "ipython3",
   "version": "3.6.12"
  }
 },
 "nbformat": 4,
 "nbformat_minor": 4
}
